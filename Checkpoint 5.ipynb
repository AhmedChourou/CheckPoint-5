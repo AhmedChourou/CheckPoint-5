{
 "cells": [
  {
   "cell_type": "code",
   "execution_count": null,
   "id": "bbe40869-e337-4049-bb4c-08f5c6f70634",
   "metadata": {},
   "outputs": [],
   "source": [
    "class Point3D:\n",
    "    def __init__(s,x,y,z):\n",
    "        print('(',x,',',y,',',z,')')\n",
    "my_point=Point3D(1,2,3)"
   ]
  },
  {
   "cell_type": "code",
   "execution_count": null,
   "id": "cd4096b0-85c2-457c-bd39-d76295c46b00",
   "metadata": {},
   "outputs": [],
   "source": [
    "class Rectangle:\n",
    "    def __init__(s,width,length):\n",
    "        print(width*length)\n",
    "    def Perimeter(s,width,length):\n",
    "        print(2*(width+length))\n",
    "my_rectangle=Rectangle(3,4)\n",
    "my_rectangle.Perimeter(3,4)"
   ]
  },
  {
   "cell_type": "code",
   "execution_count": null,
   "id": "40f5b21a-35c4-4bc9-a959-39c55e2adfda",
   "metadata": {},
   "outputs": [],
   "source": [
    "class circle:\n",
    "    def __init__(s,o,r):\n",
    "        print('your area is',3.14*r**2)\n",
    "    def perimeter(s,o,r):\n",
    "        print('your perimeter is',2*3.14*r)\n",
    "    def is_inside(s,o,r,x,y):\n",
    "        s=math.sqrt((x-o)**2+(y-0)**2)\n",
    "        if s>=r:\n",
    "            print('your point is inside the circle')\n",
    "        else:\n",
    "            print('your point is outside the circle')\n",
    "o=int(input('enter your circle center: '))\n",
    "r=int(input('enter your circle radius: '))\n",
    "x=int(input('enter your point position on dimension x: '))\n",
    "y=int(input('enter your point position on dimension y: '))\n",
    "cir=circle(o,r)\n",
    "cir.perimeter(o,r)\n",
    "cir.is_inside(o,r,x,y)"
   ]
  },
  {
   "cell_type": "code",
   "execution_count": null,
   "id": "385defd7-f6f9-437c-81e1-a95e175063d9",
   "metadata": {},
   "outputs": [],
   "source": [
    "class bank:\n",
    "    def __init__(s,balance):\n",
    "        print('your bank balance before the operation',balance)\n",
    "    def withdraw(s,amount):\n",
    "        print('your bank balance after the operation',balance-amount)\n",
    "    def deposit(s,amount):\n",
    "        print('your bank balance after the operation',balance+amount)\n",
    "balance=int(input('enter your bank balance: '))\n",
    "op=input('which operation you will be doing(withdraw/deposit): ')\n",
    "if op==('withdraw'):\n",
    "    w=int(input('how much money you wish to withdraw: '))\n",
    "    b=bank(balance)\n",
    "    b.withdraw(w)\n",
    "elif op==('deposit'):\n",
    "    d=int(input('how much money you wish to deposit'))\n",
    "    b=bank(balance)\n",
    "    b.deposit(d)\n",
    "else:\n",
    "    print('restart the program')"
   ]
  },
  {
   "cell_type": "code",
   "execution_count": null,
   "id": "f55c3723-863f-4248-abbf-03b9ef2ee6bb",
   "metadata": {},
   "outputs": [],
   "source": []
  }
 ],
 "metadata": {
  "kernelspec": {
   "display_name": "Python 3",
   "language": "python",
   "name": "python3"
  },
  "language_info": {
   "codemirror_mode": {
    "name": "ipython",
    "version": 3
   },
   "file_extension": ".py",
   "mimetype": "text/x-python",
   "name": "python",
   "nbconvert_exporter": "python",
   "pygments_lexer": "ipython3",
   "version": "3.8.8"
  }
 },
 "nbformat": 4,
 "nbformat_minor": 5
}
